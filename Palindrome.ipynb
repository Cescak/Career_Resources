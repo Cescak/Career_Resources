{
  "nbformat": 4,
  "nbformat_minor": 0,
  "metadata": {
    "colab": {
      "name": "Palindrome.ipynb",
      "provenance": [],
      "authorship_tag": "ABX9TyN6fO1RwsIQXEnfr9s5S6ua",
      "include_colab_link": true
    },
    "kernelspec": {
      "name": "python3",
      "display_name": "Python 3"
    },
    "language_info": {
      "name": "python"
    }
  },
  "cells": [
    {
      "cell_type": "markdown",
      "metadata": {
        "id": "view-in-github",
        "colab_type": "text"
      },
      "source": [
        "<a href=\"https://colab.research.google.com/github/Cescak/Career_Resources/blob/main/Palindrome.ipynb\" target=\"_parent\"><img src=\"https://colab.research.google.com/assets/colab-badge.svg\" alt=\"Open In Colab\"/></a>"
      ]
    },
    {
      "cell_type": "code",
      "metadata": {
        "id": "23mcNZB320KK"
      },
      "source": [
        "test = \"never odd or even\""
      ],
      "execution_count": 2,
      "outputs": []
    },
    {
      "cell_type": "code",
      "metadata": {
        "id": "RxwXmpzS2_Ns"
      },
      "source": [
        "def palindrome(string):\n",
        "  # convert to lowercase\n",
        "  string = string.lower()\n",
        "  "
      ],
      "execution_count": null,
      "outputs": []
    }
  ]
}